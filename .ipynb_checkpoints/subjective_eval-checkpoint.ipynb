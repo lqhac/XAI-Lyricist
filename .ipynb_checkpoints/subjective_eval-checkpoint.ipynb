{
 "cells": [
  {
   "cell_type": "code",
   "execution_count": 46,
   "id": "c7f278a2-51c1-4e0c-9fcf-f046e15c2336",
   "metadata": {},
   "outputs": [],
   "source": [
    "import scipy, os, glob, nltk\n",
    "import numpy as np\n",
    "from nltk.translate.bleu_score import sentence_bleu, SmoothingFunction"
   ]
  },
  {
   "cell_type": "code",
   "execution_count": 38,
   "id": "9f9e409a-f3d9-408f-a89b-02b6ff53b62c",
   "metadata": {},
   "outputs": [],
   "source": [
    "response_dir = '/home/qihao/XAI-Lyricist/Transformer-M2Lw/bartprompt/responses/*/*/*.txt'"
   ]
  },
  {
   "cell_type": "code",
   "execution_count": 39,
   "id": "d82889db-8a51-4e5a-914c-fc5c4ed86542",
   "metadata": {},
   "outputs": [],
   "source": [
    "files = glob.glob(response_dir)\n",
    "group = {'free': [], 'psd': [], 'xai': []}\n",
    "for file in files:\n",
    "    filename = os.path.basename(file)\n",
    "    if 'free' in filename:\n",
    "        group['free'].append(file)\n",
    "    elif 'w-exp' in filename:\n",
    "        group['xai'].append(file)\n",
    "    elif 'w-psd' in filename:\n",
    "        group['psd'].append(file)"
   ]
  },
  {
   "cell_type": "code",
   "execution_count": 40,
   "id": "62deeed4-5d0e-44d1-8755-3fff7b3126bb",
   "metadata": {},
   "outputs": [],
   "source": [
    "sents = {'free': [], 'psd': [], 'xai': []}"
   ]
  },
  {
   "cell_type": "code",
   "execution_count": 41,
   "id": "a470f21f-2dd7-4e7a-925c-82661f8658d9",
   "metadata": {},
   "outputs": [],
   "source": [
    "for g, file_set in group.items():\n",
    "    for pth in file_set:\n",
    "        with open(pth, 'r') as fp:\n",
    "            sents[g].extend(fp.read().strip().split('\\n'))"
   ]
  },
  {
   "cell_type": "code",
   "execution_count": 42,
   "id": "04384525-addd-489e-af13-3fe3861b4c43",
   "metadata": {},
   "outputs": [],
   "source": [
    "singability = {'free': [], 'psd': [], 'xai': []}\n",
    "for g, sent_set in sents.items():\n",
    "    for sent in sent_set:\n",
    "        if not sent.strip()[-1].isdigit():\n",
    "            continue\n",
    "        value = int(sent.strip()[-1])\n",
    "        singability[g].append(value)"
   ]
  },
  {
   "cell_type": "code",
   "execution_count": 45,
   "id": "de2c3700-2fc8-42b9-8c5c-9b75f9c87a0a",
   "metadata": {},
   "outputs": [
    {
     "name": "stdout",
     "output_type": "stream",
     "text": [
      "free:\n",
      "0.208955223880597\n",
      "psd:\n",
      "0.7681159420289855\n",
      "xai:\n",
      "0.9846153846153847\n"
     ]
    }
   ],
   "source": [
    "for g in sents.keys():\n",
    "    print(f\"{g}:\\n{np.mean(singability[g])}\")"
   ]
  },
  {
   "cell_type": "code",
   "execution_count": null,
   "id": "6b53c852-2874-4617-a7b9-3fc2034114d6",
   "metadata": {},
   "outputs": [],
   "source": []
  }
 ],
 "metadata": {
  "kernelspec": {
   "display_name": "Python (xailyr)",
   "language": "python",
   "name": "xailyr"
  },
  "language_info": {
   "codemirror_mode": {
    "name": "ipython",
    "version": 3
   },
   "file_extension": ".py",
   "mimetype": "text/x-python",
   "name": "python",
   "nbconvert_exporter": "python",
   "pygments_lexer": "ipython3",
   "version": "3.9.1"
  }
 },
 "nbformat": 4,
 "nbformat_minor": 5
}
